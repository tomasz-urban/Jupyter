{
 "cells": [
  {
   "cell_type": "code",
   "execution_count": 18,
   "id": "downtown-nashville",
   "metadata": {},
   "outputs": [],
   "source": [
    "import numpy as np\n",
    "import matplotlib.pyplot as plt\n",
    "from mpl_toolkits.mplot3d import Axes3D #3D algorithms"
   ]
  },
  {
   "cell_type": "markdown",
   "id": "pursuant-moderator",
   "metadata": {},
   "source": [
    "#### Generating random data"
   ]
  },
  {
   "cell_type": "code",
   "execution_count": 19,
   "id": "dependent-inspection",
   "metadata": {},
   "outputs": [
    {
     "data": {
      "text/plain": [
       "(1000, 2)"
      ]
     },
     "execution_count": 19,
     "metadata": {},
     "output_type": "execute_result"
    }
   ],
   "source": [
    "# First, we should declare a variable containing the size of the training set we want to generate.\n",
    "observations = 1000\n",
    "\n",
    "# We will work with two variables as inputs. You can think about them as x1 and x2 in our previous examples.\n",
    "# We have picked x and z, since it is easier to differentiate them.\n",
    "# We generate them randomly, drawing from an uniform distribution. There are 3 arguments of this method (low, high, size).\n",
    "# The size of xs and zs is observations x 1. In this case: 1000 x 1.\n",
    "xs = np.random.uniform(low=-10, high=10, size=(observations,1))\n",
    "zs = np.random.uniform(-10, 10, (observations,1))\n",
    "\n",
    "# Combine the two dimensions.сх of the input into one input matrix. \n",
    "# This is the X matrix from the linear model y = x*w + b.\n",
    "# column_stack is a Numpy method, which combines two matrices (vectors) into one.\n",
    "inputs = np.column_stack((xs,zs)) #it stacks data into matrix shape\n",
    "\n",
    "# Check if the dimensions of the inputs are the same as the ones we defined in the linear model lectures. \n",
    "# They should be n x k, where n is the number of observations, and k is the number of variables, so 1000 x 2.\n",
    "inputs.shape"
   ]
  },
  {
   "cell_type": "code",
   "execution_count": 20,
   "id": "banner-folks",
   "metadata": {},
   "outputs": [
    {
     "data": {
      "text/plain": [
       "(1000, 1)"
      ]
     },
     "execution_count": 20,
     "metadata": {},
     "output_type": "execute_result"
    }
   ],
   "source": [
    "noise = np.random.uniform(-1,1,(observations,1))\n",
    "\n",
    "# Produce the targets according to our f(x,z) = 2x - 3z + 5 + noise definition.\n",
    "# In this way, we are basically saying: the weights should be 2 and -3, while the bias is 5.\n",
    "targets = 2*xs - 3*zs + 5 + noise\n",
    "targets.shape"
   ]
  },
  {
   "cell_type": "code",
   "execution_count": 21,
   "id": "intellectual-astronomy",
   "metadata": {},
   "outputs": [
    {
     "data": {
      "image/png": "[encoded data removed]",
      "text/plain": [
       "<Figure size 432x288 with 1 Axes>"
      ]
     },
     "metadata": {
      "needs_background": "light"
     },
     "output_type": "display_data"
    }
   ],
   "source": [
    "# In order to use the 3D plot, the objects should have a certain shape, so we reshape the targets.\n",
    "# The proper method to use is reshape and takes as arguments the dimensions in which we want to fit the object.\n",
    "targets = targets.reshape(observations,)\n",
    "fig = plt.figure()\n",
    "ax = fig.add_subplot(111, projection='3d')\n",
    "xs = xs.reshape(observations,)\n",
    "zs = zs.reshape(observations,)\n",
    "ax.plot(xs, zs, targets)\n",
    "ax.set_xlabel('xs')\n",
    "ax.set_ylabel('zs')\n",
    "ax.set_zlabel('Targets')\n",
    "# Use azim parameter to plot the data from different angles.\n",
    "ax.view_init(azim=100)\n",
    "plt.show()\n",
    "# We reshape the targets back to the shape that they were in before plotting.\n",
    "# This reshaping is a side-effect of the 3D plot.\n",
    "targets = targets.reshape(observations,1)"
   ]
  },
  {
   "cell_type": "code",
   "execution_count": 22,
   "id": "opposite-wichita",
   "metadata": {},
   "outputs": [
    {
     "data": {
      "text/plain": [
       "(array([[0.01519019],\n",
       "        [0.01728892]]),\n",
       " array([-0.05252926]))"
      ]
     },
     "execution_count": 22,
     "metadata": {},
     "output_type": "execute_result"
    }
   ],
   "source": [
    "# We will initialize the weights and biases randomly in some small initial range.\n",
    "# init_range is the variable that will measure that.\n",
    "# You can play around with the initial range, but we don't really encourage you to do so.\n",
    "# High initial ranges may prevent the machine learning algorithm from learning.\n",
    "init_range = 0.1\n",
    "\n",
    "# Weights are of size k x m, where k is the number of input variables and m is the number of output variables\n",
    "# In our case, the weights matrix is 2x1 since there are 2 inputs (x and z) and one output (y)\n",
    "weights = np.random.uniform(-init_range, init_range, (2,1))\n",
    "\n",
    "# Biases are of size 1 since there is only 1 output. The bias is a scalar.\n",
    "biases = np.random.uniform(-init_range, init_range, 1)\n",
    "\n",
    "weights, biases"
   ]
  },
  {
   "cell_type": "code",
   "execution_count": 23,
   "id": "alert-sweet",
   "metadata": {},
   "outputs": [],
   "source": [
    "learning_rate = 0.02"
   ]
  },
  {
   "cell_type": "markdown",
   "id": "indoor-degree",
   "metadata": {},
   "source": [
    "### Training the model"
   ]
  },
  {
   "cell_type": "code",
   "execution_count": 24,
   "id": "scenic-survivor",
   "metadata": {},
   "outputs": [
    {
     "name": "stdout",
     "output_type": "stream",
     "text": [
      "231.4312855961309\n",
      "36.59349708260553\n",
      "14.692739176229283\n",
      "11.86117320187731\n",
      "11.149433123839781\n",
      "10.687555016731872\n",
      "10.268454549363316\n",
      "9.868646212696747\n",
      "9.48495629906945\n",
      "9.116480286969818\n",
      "8.762586690204799\n",
      "8.422695281851786\n",
      "8.096251703084866\n",
      "7.78272385102362\n",
      "7.481600711205841\n",
      "7.192391491399282\n",
      "6.914624817979324\n",
      "6.6478479672410105\n",
      "6.39162612747253\n",
      "6.1455416902633955\n",
      "5.909193569856252\n",
      "5.682196549429009\n",
      "5.46418065324129\n",
      "5.254790543621905\n",
      "5.053684941814472\n",
      "4.860536071737247\n",
      "4.67502912575058\n",
      "4.496861751561219\n",
      "4.325743559427255\n",
      "4.161395648860447\n",
      "4.003550154054555\n",
      "3.8519498072987646\n",
      "3.7063475196646576\n",
      "3.5665059782832573\n",
      "3.4321972595557746\n",
      "3.3032024576676986\n",
      "3.179311327800642\n",
      "3.060321943460539\n",
      "2.9460403673636084\n",
      "2.8362803353437016\n",
      "2.730862952765844\n",
      "2.629616402951145\n",
      "2.532375667137866\n",
      "2.438982255522229\n",
      "2.349283948940544\n",
      "2.2631345507717042\n",
      "2.1803936486556244\n",
      "2.1009263856392852\n",
      "2.024603240377359\n",
      "1.9512998160292054\n",
      "1.8808966375081326\n",
      "1.8132789567524692\n",
      "1.7483365657011045\n",
      "1.6859636166686087\n",
      "1.626058449827226\n",
      "1.5685234275145232\n",
      "1.5132647750966377\n",
      "1.4601924281277838\n",
      "1.4092198855568614\n",
      "1.3602640687419496\n",
      "1.3132451860428904\n",
      "1.2680866027712396\n",
      "1.2247147162856509\n",
      "1.1830588360291154\n",
      "1.1430510683125\n",
      "1.1046262056566325\n",
      "1.067721620512556\n",
      "1.0322771631867345\n",
      "0.9982350638048495\n",
      "0.965539838154378\n",
      "0.9341381972525246\n",
      "0.9039789604920714\n",
      "0.8750129722236243\n",
      "0.8471930216382705\n",
      "0.820473765820074\n",
      "0.7948116558429961\n",
      "0.7701648657917844\n",
      "0.7464932245911575\n",
      "0.7237581505321428\n",
      "0.7019225883888992\n",
      "0.6809509490234935\n",
      "0.6608090513802154\n",
      "0.6414640667748851\n",
      "0.6228844653883542\n",
      "0.605039964876976\n",
      "0.5879014810163165\n",
      "0.5714410802976281\n",
      "0.5556319343998564\n",
      "0.540448276462946\n",
      "0.525865359091199\n",
      "0.511859414018224\n",
      "0.49840761336774225\n",
      "0.485488032447104\n",
      "0.47307961401288356\n",
      "0.4611621339502946\n",
      "0.4497161683105064\n",
      "0.4387230616521206\n",
      "0.4281648966352227\n",
      "0.4180244648184322\n",
      "0.40828523861137955\n"
     ]
    }
   ],
   "source": [
    "# We iterate over our training dataset 100 times. That works well with a learning rate of 0.02.\n",
    "# Generally a lower learning rate would need more iterations, while a higher learning rate would need less iterations\n",
    "# High learning rate may cause the loss to diverge to infinity, instead of converge to 0.\n",
    "\n",
    "for i in range(100):\n",
    "    # This is the linear model: y = xw + b equation\n",
    "    outputs = np.dot(inputs,weights) + biases\n",
    "    \n",
    "    # The deltas are the differences between the outputs and the targets (in here vector 1000 x 1)\n",
    "    deltas = outputs - targets\n",
    "    \n",
    "    # We are considering the L2-norm loss, but divided by 2. Moreover, we further divide it by the number of observations.\n",
    "    # This is simple rescaling by a constant. \n",
    "    loss = np.sum(deltas**2)/2/observations\n",
    "    print(loss)\n",
    "    \n",
    "    # Another small trick is to scale the deltas the same way as the loss function\n",
    "    # In this way our learning rate is independent of the number of samples (observations).\n",
    "    deltas_scaled = deltas/observations\n",
    "    \n",
    "    # We must apply the gradient descent update rules.\n",
    "    # The weights are 2x1, learning rate is 1x1 (scalar), inputs are 1000x2, and deltas_scaled are 1000x1\n",
    "    # We must transpose the inputs so that we get an allowed operation.\n",
    "    weights = weights - learning_rate*np.dot(inputs.T,deltas_scaled)\n",
    "    biases = biases - learning_rate*np.sum(deltas_scaled)\n",
    "    \n",
    "    # The weights are updated in a linear algebraic way (a matrix minus another matrix)\n",
    "    # The biases, however, are just a single number here, so we must transform the deltas into a scalar.\n",
    "    # The two lines are both consistent with the gradient descent methodology. "
   ]
  },
  {
   "cell_type": "markdown",
   "id": "spread-virginia",
   "metadata": {},
   "source": [
    "#### Weights and biases"
   ]
  },
  {
   "cell_type": "code",
   "execution_count": 25,
   "id": "numeric-soldier",
   "metadata": {},
   "outputs": [
    {
     "data": {
      "text/plain": [
       "(array([[ 1.99321796],\n",
       "        [-3.00327981]]),\n",
       " array([4.35226457]))"
      ]
     },
     "execution_count": 25,
     "metadata": {},
     "output_type": "execute_result"
    }
   ],
   "source": [
    "# We print the weights and the biases, so we can see if they have converged to what we wanted.\n",
    "# When declared the targets, following the f(x,z), we knew the weights should be 2 and -3, while the bias: 5.\n",
    "# Note that they may be convergING. So more iterations are needed.\n",
    "weights, biases"
   ]
  },
  {
   "cell_type": "markdown",
   "id": "frank-charm",
   "metadata": {},
   "source": [
    "#### We can run the code again to get another 100 iteration. I will copy and paste the code from cells above to make it more visible."
   ]
  },
  {
   "cell_type": "code",
   "execution_count": 26,
   "id": "toxic-holiday",
   "metadata": {},
   "outputs": [
    {
     "name": "stdout",
     "output_type": "stream",
     "text": [
      "0.39893134433686855\n",
      "0.38994753635884094\n",
      "0.3813191722339651\n",
      "0.3730321888463494\n",
      "0.3650730794864859\n",
      "0.3574288718370599\n",
      "0.350087106829758\n",
      "0.343035818338596\n",
      "0.3362635136766871\n",
      "0.3297591548646495\n",
      "0.3235121406401287\n",
      "0.31751228917911317\n",
      "0.311749821500884\n",
      "0.3062153455295371\n",
      "0.30089984078612003\n",
      "0.29579464368641784\n",
      "0.290891433420434\n",
      "0.2861822183905482\n",
      "0.28165932318624676\n",
      "0.2773153760741956\n",
      "0.2731432969832753\n",
      "0.26913628596497574\n",
      "0.26528781211036595\n",
      "0.26159160290555505\n",
      "0.25804163400830954\n",
      "0.25463211942915404\n",
      "0.2513575021009593\n",
      "0.24821244482164131\n",
      "0.24519182155521396\n",
      "0.24229070907701392\n",
      "0.23950437894948345\n",
      "0.23682828981542714\n",
      "0.2342580799961907\n",
      "0.23178956038268866\n",
      "0.22941870760769728\n",
      "0.22714165748829068\n",
      "0.22495469872771975\n",
      "0.22285426686648163\n",
      "0.2208369384727119\n",
      "0.2188994255624327\n",
      "0.21703857024056705\n",
      "0.2152513395539756\n",
      "0.2135348205481405\n",
      "0.21188621551942188\n",
      "0.2103028374551675\n",
      "0.20878210565422725\n",
      "0.20732154152074617\n",
      "0.20591876452437305\n",
      "0.2045714883203056\n",
      "0.20327751702284402\n",
      "0.20203474162638183\n",
      "0.20084113656799876\n",
      "0.19969475642605794\n",
      "0.19859373274941827\n",
      "0.19753627101210275\n",
      "0.196520647688452\n",
      "0.19554520744400275\n",
      "0.19460836043750485\n",
      "0.19370857972968764\n",
      "0.1928443987945459\n",
      "0.19201440912909284\n",
      "0.19121725795768205\n",
      "0.19045164602715944\n",
      "0.18971632548924788\n",
      "0.18901009786671638\n",
      "0.1883318121000183\n",
      "0.18768036267121163\n",
      "0.18705468780211038\n",
      "0.18645376772372116\n",
      "0.18587662301415345\n",
      "0.18532231300228824\n",
      "0.18478993423460577\n",
      "0.1842786190026739\n",
      "0.18378753392889527\n",
      "0.18331587860820975\n",
      "0.18286288430353817\n",
      "0.18242781269284028\n",
      "0.18200995466574543\n",
      "0.1816086291677946\n",
      "0.1812231820904098\n",
      "0.18085298520478194\n",
      "0.1804974351379389\n",
      "0.18015595238932636\n",
      "0.17982798038629585\n",
      "0.17951298457696516\n",
      "0.1792104515589664\n",
      "0.178919888242667\n",
      "0.17864082104749832\n",
      "0.17837279513007986\n",
      "0.1781153736428834\n",
      "0.17786813702222878\n",
      "0.17763068230444873\n",
      "0.17740262246911095\n",
      "0.17718358580822438\n",
      "0.17697321532040364\n",
      "0.17677116812900248\n",
      "0.1765771149232708\n",
      "0.17639073942161837\n",
      "0.1762117378561189\n",
      "0.17603981847740677\n"
     ]
    }
   ],
   "source": [
    "for i in range(100):\n",
    "    outputs = np.dot(inputs,weights) + biases\n",
    "    deltas = outputs - targets\n",
    "    \n",
    "    loss = np.sum(deltas**2)/2/observations\n",
    "    print(loss)\n",
    "    \n",
    "    deltas_scaled = deltas/observations\n",
    "    weights = weights - learning_rate*np.dot(inputs.T,deltas_scaled)\n",
    "    biases = biases - learning_rate*np.sum(deltas_scaled)"
   ]
  },
  {
   "cell_type": "code",
   "execution_count": 27,
   "id": "imposed-drain",
   "metadata": {},
   "outputs": [
    {
     "data": {
      "text/plain": [
       "(array([[ 1.99527676],\n",
       "        [-3.00105382]]),\n",
       " array([4.93687519]))"
      ]
     },
     "execution_count": 27,
     "metadata": {},
     "output_type": "execute_result"
    }
   ],
   "source": [
    "weights, biases"
   ]
  },
  {
   "cell_type": "markdown",
   "id": "interested-cross",
   "metadata": {},
   "source": [
    "#### Now we can plot outputs vs targets"
   ]
  },
  {
   "cell_type": "code",
   "execution_count": 28,
   "id": "isolated-inventory",
   "metadata": {},
   "outputs": [
    {
     "data": {
      "image/png": "[encoded data removed]",
      "text/plain": [
       "<Figure size 432x288 with 1 Axes>"
      ]
     },
     "metadata": {
      "needs_background": "light"
     },
     "output_type": "display_data"
    }
   ],
   "source": [
    "plt.plot(outputs, targets)\n",
    "plt.xlabel('outputs')\n",
    "plt.ylabel('targets')\n",
    "plt.show();"
   ]
  },
  {
   "cell_type": "markdown",
   "id": "comic-camera",
   "metadata": {},
   "source": [
    "#### The closer this plot is to the 45 degree line the closer are the outputs to the targets"
   ]
  },
  {
   "cell_type": "code",
   "execution_count": null,
   "id": "unlikely-medline",
   "metadata": {},
   "outputs": [],
   "source": []
  }
 ],
 "metadata": {
  "kernelspec": {
   "display_name": "Python 3 (ipykernel)",
   "language": "python",
   "name": "python3"
  },
  "language_info": {
   "codemirror_mode": {
    "name": "ipython",
    "version": 3
   },
   "file_extension": ".py",
   "mimetype": "text/x-python",
   "name": "python",
   "nbconvert_exporter": "python",
   "pygments_lexer": "ipython3",
   "version": "3.9.7"
  }
 },
 "nbformat": 4,
 "nbformat_minor": 5
}
