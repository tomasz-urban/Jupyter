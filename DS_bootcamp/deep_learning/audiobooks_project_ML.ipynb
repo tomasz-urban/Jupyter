{
 "cells": [
  {
   "cell_type": "markdown",
   "id": "08eb241f",
   "metadata": {},
   "source": [
    "### Audiobooks project - Machine Learning part"
   ]
  },
  {
   "cell_type": "markdown",
   "id": "2a5b5c55",
   "metadata": {},
   "source": [
    "#### Problem\n",
    "\n",
    "You are given data from an Audiobook App. Logically, it relates to the audio versions of books ONLY. Each customer in the database has made a purchase at least once, that's why he/she is in the database. We want to create a machine learning algorithm based on our available data that can predict if a customer will buy again from the Audiobook company.\n",
    "\n",
    "The main idea is that if a customer has a low probability of coming back, there is no reason to spend any money on advertising to him/her. If we can focus our efforts SOLELY on customers that are likely to convert again, we can make great savings. Moreover, this model can identify the most important metrics for a customer to come back again. Identifying new customers creates value and growth opportunities.\n",
    "\n",
    "You have a .csv summarizing the data. There are several variables: Customer ID, ), Book length overall (sum of the minute length of all purchases), Book length avg (average length in minutes of all purchases), Price paid_overall (sum of all purchases) ,Price Paid avg (average of all purchases), Review (a Boolean variable whether the customer left a review), Review out of 10 (if the customer left a review, his/her review out of 10, Total minutes listened, Completion (from 0 to 1), Support requests (number of support requests; everything from forgotten password to assistance for using the App), and Last visited minus purchase date (in days).\n",
    "\n",
    "These are the inputs (excluding customer ID, as it is completely arbitrary. It's more like a name, than a number).\n",
    "\n",
    "The targets are a Boolean variable (0 or 1). We are taking a period of 2 years in our inputs, and the next 6 months as targets. So, in fact, we are predicting if: based on the last 2 years of activity and engagement, a customer will convert in the next 6 months. 6 months sounds like a reasonable time. If they don't convert after 6 months, chances are they've gone to a competitor or didn't like the Audiobook way of digesting information. \n",
    "\n",
    "The task is simple: create a machine learning algorithm, which is able to predict if a customer will buy again. \n",
    "\n",
    "This is a classification problem with two classes: won't buy and will buy, represented by 0s and 1s. "
   ]
  },
  {
   "cell_type": "code",
   "execution_count": 10,
   "id": "9676264e",
   "metadata": {},
   "outputs": [],
   "source": [
    "# Importing libraries\n",
    "import numpy as np\n",
    "import tensorflow as tf"
   ]
  },
  {
   "cell_type": "code",
   "execution_count": 14,
   "id": "7b2fb030",
   "metadata": {},
   "outputs": [],
   "source": [
    "# Loading the data\n",
    "npz = np.load('data/audiobooks_data_train.npz')\n",
    "train_inputs = npz['inputs'].astype(float)\n",
    "train_targets = npz['targets'].astype(int)\n",
    "\n",
    "npz = np.load('data/audiobooks_data_validation.npz')\n",
    "#We have to make sure that all inputs are floats and targets are int so we add .astype() to every each of them\n",
    "validation_inputs = npz['inputs'].astype(float)\n",
    "validation_targets = npz['targets'].astype(int)\n",
    "\n",
    "npz = np.load('data/audiobooks_data_test.npz')\n",
    "test_inputs, test_targets = npz['inputs'].astype(float), npz['targets'].astype(int)"
   ]
  },
  {
   "cell_type": "markdown",
   "id": "3e7c0be3",
   "metadata": {},
   "source": [
    "### NN Model"
   ]
  },
  {
   "cell_type": "code",
   "execution_count": 15,
   "id": "b9ce20f9",
   "metadata": {},
   "outputs": [
    {
     "name": "stdout",
     "output_type": "stream",
     "text": [
      "Epoch 1/100\n",
      "36/36 - 1s - loss: 3.1564 - accuracy: 0.5041 - val_loss: 2.2217 - val_accuracy: 0.6868\n",
      "Epoch 2/100\n",
      "36/36 - 0s - loss: 1.2597 - accuracy: 0.7175 - val_loss: 0.6029 - val_accuracy: 0.7808\n",
      "Epoch 3/100\n",
      "36/36 - 0s - loss: 0.5067 - accuracy: 0.7631 - val_loss: 0.4507 - val_accuracy: 0.7919\n",
      "Epoch 4/100\n",
      "36/36 - 0s - loss: 0.4424 - accuracy: 0.7734 - val_loss: 0.4199 - val_accuracy: 0.8009\n",
      "Epoch 5/100\n",
      "36/36 - 0s - loss: 0.4202 - accuracy: 0.7656 - val_loss: 0.4038 - val_accuracy: 0.7987\n",
      "Epoch 6/100\n",
      "36/36 - 0s - loss: 0.4029 - accuracy: 0.7857 - val_loss: 0.3929 - val_accuracy: 0.8031\n",
      "Epoch 7/100\n",
      "36/36 - 0s - loss: 0.3902 - accuracy: 0.7963 - val_loss: 0.3850 - val_accuracy: 0.8121\n",
      "Epoch 8/100\n",
      "36/36 - 0s - loss: 0.3806 - accuracy: 0.8050 - val_loss: 0.3743 - val_accuracy: 0.8054\n",
      "Epoch 9/100\n",
      "36/36 - 0s - loss: 0.3732 - accuracy: 0.8013 - val_loss: 0.3793 - val_accuracy: 0.8121\n",
      "Epoch 10/100\n",
      "36/36 - 0s - loss: 0.3682 - accuracy: 0.8055 - val_loss: 0.3707 - val_accuracy: 0.8143\n",
      "Epoch 11/100\n",
      "36/36 - 0s - loss: 0.3644 - accuracy: 0.7991 - val_loss: 0.3635 - val_accuracy: 0.8076\n",
      "Epoch 12/100\n",
      "36/36 - 0s - loss: 0.3582 - accuracy: 0.8053 - val_loss: 0.3612 - val_accuracy: 0.8076\n",
      "Epoch 13/100\n",
      "36/36 - 0s - loss: 0.3550 - accuracy: 0.8075 - val_loss: 0.3713 - val_accuracy: 0.8054\n",
      "Epoch 14/100\n",
      "36/36 - 0s - loss: 0.3528 - accuracy: 0.8097 - val_loss: 0.3612 - val_accuracy: 0.8210\n",
      "Epoch 15/100\n",
      "36/36 - 0s - loss: 0.3473 - accuracy: 0.8148 - val_loss: 0.3547 - val_accuracy: 0.8300\n",
      "Epoch 16/100\n",
      "36/36 - 0s - loss: 0.3451 - accuracy: 0.8120 - val_loss: 0.3544 - val_accuracy: 0.8277\n",
      "Epoch 17/100\n",
      "36/36 - 0s - loss: 0.3439 - accuracy: 0.8122 - val_loss: 0.3545 - val_accuracy: 0.8076\n",
      "Epoch 18/100\n",
      "36/36 - 0s - loss: 0.3428 - accuracy: 0.8117 - val_loss: 0.3645 - val_accuracy: 0.8143\n",
      "Epoch 19/100\n",
      "36/36 - 0s - loss: 0.3410 - accuracy: 0.8069 - val_loss: 0.3565 - val_accuracy: 0.8143\n",
      "Epoch 20/100\n",
      "36/36 - 0s - loss: 0.3378 - accuracy: 0.8159 - val_loss: 0.3522 - val_accuracy: 0.8233\n",
      "Epoch 21/100\n",
      "36/36 - 0s - loss: 0.3393 - accuracy: 0.8164 - val_loss: 0.3577 - val_accuracy: 0.8300\n",
      "Epoch 22/100\n",
      "36/36 - 0s - loss: 0.3408 - accuracy: 0.8111 - val_loss: 0.4089 - val_accuracy: 0.7539\n",
      "Epoch 23/100\n",
      "36/36 - 0s - loss: 0.3383 - accuracy: 0.8142 - val_loss: 0.3545 - val_accuracy: 0.8054\n",
      "Epoch 24/100\n",
      "36/36 - 0s - loss: 0.3332 - accuracy: 0.8192 - val_loss: 0.3475 - val_accuracy: 0.8277\n",
      "Epoch 25/100\n",
      "36/36 - 0s - loss: 0.3311 - accuracy: 0.8226 - val_loss: 0.3562 - val_accuracy: 0.8188\n",
      "Epoch 26/100\n",
      "36/36 - 0s - loss: 0.3302 - accuracy: 0.8276 - val_loss: 0.3494 - val_accuracy: 0.8277\n",
      "Epoch 27/100\n",
      "36/36 - 0s - loss: 0.3292 - accuracy: 0.8240 - val_loss: 0.3499 - val_accuracy: 0.8233\n",
      "Epoch 28/100\n",
      "36/36 - 0s - loss: 0.3279 - accuracy: 0.8254 - val_loss: 0.3503 - val_accuracy: 0.8255\n",
      "Epoch 29/100\n",
      "36/36 - 0s - loss: 0.3266 - accuracy: 0.8189 - val_loss: 0.3463 - val_accuracy: 0.8166\n",
      "Epoch 30/100\n",
      "36/36 - 0s - loss: 0.3239 - accuracy: 0.8265 - val_loss: 0.3631 - val_accuracy: 0.8076\n",
      "Epoch 31/100\n",
      "36/36 - 0s - loss: 0.3246 - accuracy: 0.8262 - val_loss: 0.3508 - val_accuracy: 0.8121\n",
      "Epoch 32/100\n",
      "36/36 - 0s - loss: 0.3264 - accuracy: 0.8240 - val_loss: 0.3508 - val_accuracy: 0.8277\n",
      "Epoch 33/100\n",
      "36/36 - 0s - loss: 0.3261 - accuracy: 0.8231 - val_loss: 0.3569 - val_accuracy: 0.8076\n",
      "Epoch 34/100\n",
      "36/36 - 0s - loss: 0.3239 - accuracy: 0.8220 - val_loss: 0.3541 - val_accuracy: 0.8098\n",
      "Epoch 35/100\n",
      "36/36 - 0s - loss: 0.3227 - accuracy: 0.8240 - val_loss: 0.3536 - val_accuracy: 0.8166\n",
      "Epoch 36/100\n",
      "36/36 - 0s - loss: 0.3207 - accuracy: 0.8262 - val_loss: 0.3557 - val_accuracy: 0.8121\n",
      "Epoch 37/100\n",
      "36/36 - 0s - loss: 0.3197 - accuracy: 0.8248 - val_loss: 0.3528 - val_accuracy: 0.8031\n",
      "Epoch 38/100\n",
      "36/36 - 0s - loss: 0.3218 - accuracy: 0.8290 - val_loss: 0.3607 - val_accuracy: 0.8076\n",
      "Epoch 39/100\n",
      "36/36 - 0s - loss: 0.3179 - accuracy: 0.8284 - val_loss: 0.3602 - val_accuracy: 0.7919\n",
      "Epoch 40/100\n",
      "36/36 - 0s - loss: 0.3209 - accuracy: 0.8290 - val_loss: 0.3716 - val_accuracy: 0.7919\n",
      "Epoch 41/100\n",
      "36/36 - 0s - loss: 0.3185 - accuracy: 0.8287 - val_loss: 0.3646 - val_accuracy: 0.8255\n",
      "Epoch 42/100\n",
      "36/36 - 0s - loss: 0.3176 - accuracy: 0.8284 - val_loss: 0.3571 - val_accuracy: 0.8255\n",
      "Epoch 43/100\n",
      "36/36 - 0s - loss: 0.3193 - accuracy: 0.8310 - val_loss: 0.3590 - val_accuracy: 0.8121\n",
      "Epoch 44/100\n",
      "36/36 - 0s - loss: 0.3165 - accuracy: 0.8332 - val_loss: 0.3571 - val_accuracy: 0.8210\n",
      "Epoch 45/100\n",
      "36/36 - 0s - loss: 0.3156 - accuracy: 0.8296 - val_loss: 0.3530 - val_accuracy: 0.8188\n",
      "Epoch 46/100\n",
      "36/36 - 0s - loss: 0.3165 - accuracy: 0.8256 - val_loss: 0.3626 - val_accuracy: 0.8076\n",
      "Epoch 47/100\n",
      "36/36 - 0s - loss: 0.3162 - accuracy: 0.8276 - val_loss: 0.3564 - val_accuracy: 0.8009\n",
      "Epoch 48/100\n",
      "36/36 - 0s - loss: 0.3167 - accuracy: 0.8273 - val_loss: 0.3602 - val_accuracy: 0.8233\n",
      "Epoch 49/100\n",
      "36/36 - 0s - loss: 0.3164 - accuracy: 0.8254 - val_loss: 0.3749 - val_accuracy: 0.8121\n",
      "Epoch 50/100\n",
      "36/36 - 0s - loss: 0.3169 - accuracy: 0.8262 - val_loss: 0.3661 - val_accuracy: 0.8054\n",
      "Epoch 51/100\n",
      "36/36 - 0s - loss: 0.3120 - accuracy: 0.8298 - val_loss: 0.3545 - val_accuracy: 0.8188\n",
      "Epoch 52/100\n",
      "36/36 - 0s - loss: 0.3180 - accuracy: 0.8251 - val_loss: 0.3631 - val_accuracy: 0.8255\n",
      "Epoch 53/100\n",
      "36/36 - 0s - loss: 0.3175 - accuracy: 0.8215 - val_loss: 0.3683 - val_accuracy: 0.8166\n",
      "Epoch 54/100\n",
      "36/36 - 0s - loss: 0.3118 - accuracy: 0.8301 - val_loss: 0.3645 - val_accuracy: 0.8031\n",
      "Epoch 55/100\n",
      "36/36 - 0s - loss: 0.3108 - accuracy: 0.8318 - val_loss: 0.3599 - val_accuracy: 0.8143\n",
      "Epoch 56/100\n",
      "36/36 - 0s - loss: 0.3111 - accuracy: 0.8251 - val_loss: 0.3661 - val_accuracy: 0.8098\n",
      "Epoch 57/100\n",
      "36/36 - 0s - loss: 0.3122 - accuracy: 0.8298 - val_loss: 0.3718 - val_accuracy: 0.8233\n",
      "Epoch 58/100\n",
      "36/36 - 0s - loss: 0.3122 - accuracy: 0.8296 - val_loss: 0.3694 - val_accuracy: 0.8188\n",
      "Epoch 59/100\n",
      "36/36 - 0s - loss: 0.3093 - accuracy: 0.8346 - val_loss: 0.3669 - val_accuracy: 0.8098\n",
      "Epoch 60/100\n",
      "36/36 - 0s - loss: 0.3140 - accuracy: 0.8245 - val_loss: 0.3748 - val_accuracy: 0.7987\n",
      "Epoch 61/100\n",
      "36/36 - 0s - loss: 0.3114 - accuracy: 0.8304 - val_loss: 0.3624 - val_accuracy: 0.8076\n",
      "Epoch 62/100\n",
      "36/36 - 0s - loss: 0.3098 - accuracy: 0.8290 - val_loss: 0.3663 - val_accuracy: 0.8031\n",
      "Epoch 63/100\n",
      "36/36 - 0s - loss: 0.3095 - accuracy: 0.8346 - val_loss: 0.3647 - val_accuracy: 0.8098\n",
      "Epoch 64/100\n",
      "36/36 - 0s - loss: 0.3102 - accuracy: 0.8290 - val_loss: 0.3953 - val_accuracy: 0.8277\n",
      "Epoch 65/100\n",
      "36/36 - 0s - loss: 0.3107 - accuracy: 0.8304 - val_loss: 0.3572 - val_accuracy: 0.7987\n",
      "Epoch 66/100\n",
      "36/36 - 0s - loss: 0.3107 - accuracy: 0.8293 - val_loss: 0.3631 - val_accuracy: 0.8054\n",
      "Epoch 67/100\n",
      "36/36 - 0s - loss: 0.3084 - accuracy: 0.8310 - val_loss: 0.3693 - val_accuracy: 0.8188\n",
      "Epoch 68/100\n",
      "36/36 - 0s - loss: 0.3128 - accuracy: 0.8262 - val_loss: 0.3609 - val_accuracy: 0.8098\n",
      "Epoch 69/100\n",
      "36/36 - 0s - loss: 0.3081 - accuracy: 0.8293 - val_loss: 0.3772 - val_accuracy: 0.8098\n",
      "Epoch 70/100\n",
      "36/36 - 0s - loss: 0.3062 - accuracy: 0.8321 - val_loss: 0.3723 - val_accuracy: 0.8121\n",
      "Epoch 71/100\n",
      "36/36 - 0s - loss: 0.3137 - accuracy: 0.8256 - val_loss: 0.3818 - val_accuracy: 0.8188\n",
      "Epoch 72/100\n",
      "36/36 - 0s - loss: 0.3097 - accuracy: 0.8318 - val_loss: 0.3580 - val_accuracy: 0.8121\n",
      "Epoch 73/100\n",
      "36/36 - 0s - loss: 0.3084 - accuracy: 0.8262 - val_loss: 0.3721 - val_accuracy: 0.8054\n",
      "Epoch 74/100\n",
      "36/36 - 0s - loss: 0.3065 - accuracy: 0.8365 - val_loss: 0.3722 - val_accuracy: 0.8143\n",
      "Epoch 75/100\n",
      "36/36 - 0s - loss: 0.3061 - accuracy: 0.8312 - val_loss: 0.3622 - val_accuracy: 0.8188\n",
      "Epoch 76/100\n",
      "36/36 - 0s - loss: 0.3087 - accuracy: 0.8318 - val_loss: 0.3768 - val_accuracy: 0.8121\n",
      "Epoch 77/100\n",
      "36/36 - 0s - loss: 0.3088 - accuracy: 0.8282 - val_loss: 0.3680 - val_accuracy: 0.8121\n",
      "Epoch 78/100\n",
      "36/36 - 0s - loss: 0.3081 - accuracy: 0.8282 - val_loss: 0.3710 - val_accuracy: 0.8210\n",
      "Epoch 79/100\n",
      "36/36 - 0s - loss: 0.3063 - accuracy: 0.8332 - val_loss: 0.3656 - val_accuracy: 0.8255\n",
      "Epoch 80/100\n",
      "36/36 - 0s - loss: 0.3070 - accuracy: 0.8312 - val_loss: 0.3724 - val_accuracy: 0.8188\n",
      "Epoch 81/100\n",
      "36/36 - 0s - loss: 0.3073 - accuracy: 0.8287 - val_loss: 0.3762 - val_accuracy: 0.8054\n",
      "Epoch 82/100\n",
      "36/36 - 0s - loss: 0.3099 - accuracy: 0.8349 - val_loss: 0.3921 - val_accuracy: 0.7830\n",
      "Epoch 83/100\n"
     ]
    },
    {
     "name": "stdout",
     "output_type": "stream",
     "text": [
      "36/36 - 0s - loss: 0.3090 - accuracy: 0.8270 - val_loss: 0.3672 - val_accuracy: 0.8076\n",
      "Epoch 84/100\n",
      "36/36 - 0s - loss: 0.3093 - accuracy: 0.8304 - val_loss: 0.3904 - val_accuracy: 0.8054\n",
      "Epoch 85/100\n",
      "36/36 - 0s - loss: 0.3076 - accuracy: 0.8287 - val_loss: 0.3799 - val_accuracy: 0.8210\n",
      "Epoch 86/100\n",
      "36/36 - 0s - loss: 0.3048 - accuracy: 0.8354 - val_loss: 0.3813 - val_accuracy: 0.8098\n",
      "Epoch 87/100\n",
      "36/36 - 0s - loss: 0.3042 - accuracy: 0.8318 - val_loss: 0.3664 - val_accuracy: 0.8076\n",
      "Epoch 88/100\n",
      "36/36 - 0s - loss: 0.3111 - accuracy: 0.8254 - val_loss: 0.3712 - val_accuracy: 0.8031\n",
      "Epoch 89/100\n",
      "36/36 - 0s - loss: 0.3166 - accuracy: 0.8234 - val_loss: 0.3853 - val_accuracy: 0.7718\n",
      "Epoch 90/100\n",
      "36/36 - 0s - loss: 0.3111 - accuracy: 0.8234 - val_loss: 0.3758 - val_accuracy: 0.7919\n",
      "Epoch 91/100\n",
      "36/36 - 0s - loss: 0.3046 - accuracy: 0.8326 - val_loss: 0.3682 - val_accuracy: 0.8143\n",
      "Epoch 92/100\n",
      "36/36 - 0s - loss: 0.3061 - accuracy: 0.8321 - val_loss: 0.3759 - val_accuracy: 0.8233\n",
      "Epoch 93/100\n",
      "36/36 - 0s - loss: 0.3060 - accuracy: 0.8318 - val_loss: 0.3725 - val_accuracy: 0.8121\n",
      "Epoch 94/100\n",
      "36/36 - 0s - loss: 0.3073 - accuracy: 0.8273 - val_loss: 0.3696 - val_accuracy: 0.7964\n",
      "Epoch 95/100\n",
      "36/36 - 0s - loss: 0.3028 - accuracy: 0.8346 - val_loss: 0.3648 - val_accuracy: 0.8031\n",
      "Epoch 96/100\n",
      "36/36 - 0s - loss: 0.3054 - accuracy: 0.8318 - val_loss: 0.3750 - val_accuracy: 0.8210\n",
      "Epoch 97/100\n",
      "36/36 - 0s - loss: 0.3051 - accuracy: 0.8340 - val_loss: 0.3699 - val_accuracy: 0.8009\n",
      "Epoch 98/100\n",
      "36/36 - 0s - loss: 0.3070 - accuracy: 0.8304 - val_loss: 0.3776 - val_accuracy: 0.8054\n",
      "Epoch 99/100\n",
      "36/36 - 0s - loss: 0.3042 - accuracy: 0.8307 - val_loss: 0.3705 - val_accuracy: 0.8143\n",
      "Epoch 100/100\n",
      "36/36 - 0s - loss: 0.3113 - accuracy: 0.8237 - val_loss: 0.3649 - val_accuracy: 0.8143\n"
     ]
    },
    {
     "data": {
      "text/plain": [
       "<keras.callbacks.History at 0x19c3955e670>"
      ]
     },
     "execution_count": 15,
     "metadata": {},
     "output_type": "execute_result"
    }
   ],
   "source": [
    "# The data is preprocessed in the proper way already so we don't have to use Flatten as the first layer as for example\n",
    "# in the MNIST project.\n",
    "\n",
    "input_size = 10 # 10 predictors\n",
    "output_size = 2 # output is 0 or 1\n",
    "hidden_layer_size = 50\n",
    "\n",
    "model = tf.keras.Sequential([\n",
    "                             tf.keras.layers.Dense(hidden_layer_size, activation='relu'),\n",
    "                             tf.keras.layers.Dense(hidden_layer_size, activation='relu'),\n",
    "                             tf.keras.layers.Dense(hidden_layer_size, activation='softmax')\n",
    "                            ])\n",
    "\n",
    "model.compile(optimizer='adam', loss='sparse_categorical_crossentropy', metrics=['accuracy'])\n",
    "# sparse_categorical_crossentropy applies one-hot encoding to the targets\n",
    "\n",
    "batch_size = 100\n",
    "max_epochs = 100\n",
    "\n",
    "model.fit(train_inputs,\n",
    "          train_targets,\n",
    "          batch_size = batch_size,\n",
    "          epochs = max_epochs,\n",
    "          validation_data=(validation_inputs, validation_targets),\n",
    "          verbose=2)"
   ]
  },
  {
   "cell_type": "markdown",
   "id": "b046286e",
   "metadata": {},
   "source": [
    "Even though the loss was mainly decreasing and we were getting higher accuracy which is good, the validation loss was decreasing at one time and increasing at some points. This shows us that our model was `overfitting`. At some point we should stop the model not to get overfitted."
   ]
  },
  {
   "cell_type": "code",
   "execution_count": 22,
   "id": "d14a93ba",
   "metadata": {},
   "outputs": [
    {
     "name": "stdout",
     "output_type": "stream",
     "text": [
      "Epoch 1/100\n",
      "36/36 - 1s - loss: 3.2244 - accuracy: 0.3898 - val_loss: 2.2140 - val_accuracy: 0.6376\n",
      "Epoch 2/100\n",
      "36/36 - 0s - loss: 1.2308 - accuracy: 0.6753 - val_loss: 0.6344 - val_accuracy: 0.6913\n",
      "Epoch 3/100\n",
      "36/36 - 0s - loss: 0.5392 - accuracy: 0.7332 - val_loss: 0.4950 - val_accuracy: 0.7785\n",
      "Epoch 4/100\n",
      "36/36 - 0s - loss: 0.4649 - accuracy: 0.7636 - val_loss: 0.4525 - val_accuracy: 0.7405\n",
      "Epoch 5/100\n",
      "36/36 - 0s - loss: 0.4317 - accuracy: 0.7681 - val_loss: 0.4324 - val_accuracy: 0.7517\n",
      "Epoch 6/100\n",
      "36/36 - 0s - loss: 0.4090 - accuracy: 0.7832 - val_loss: 0.4076 - val_accuracy: 0.7987\n",
      "Epoch 7/100\n",
      "36/36 - 0s - loss: 0.3944 - accuracy: 0.7913 - val_loss: 0.4002 - val_accuracy: 0.7942\n",
      "Epoch 8/100\n",
      "36/36 - 0s - loss: 0.3842 - accuracy: 0.7997 - val_loss: 0.3906 - val_accuracy: 0.8098\n",
      "Epoch 9/100\n",
      "36/36 - 0s - loss: 0.3767 - accuracy: 0.7941 - val_loss: 0.3808 - val_accuracy: 0.7942\n",
      "Epoch 10/100\n",
      "36/36 - 0s - loss: 0.3704 - accuracy: 0.7999 - val_loss: 0.3742 - val_accuracy: 0.7919\n",
      "Epoch 11/100\n",
      "36/36 - 0s - loss: 0.3651 - accuracy: 0.7991 - val_loss: 0.3707 - val_accuracy: 0.8076\n",
      "Epoch 12/100\n",
      "36/36 - 0s - loss: 0.3598 - accuracy: 0.8008 - val_loss: 0.3726 - val_accuracy: 0.8076\n",
      "Epoch 13/100\n",
      "36/36 - 0s - loss: 0.3562 - accuracy: 0.8064 - val_loss: 0.3846 - val_accuracy: 0.7673\n"
     ]
    },
    {
     "data": {
      "text/plain": [
       "<keras.callbacks.History at 0x19c3a8e8520>"
      ]
     },
     "execution_count": 22,
     "metadata": {},
     "output_type": "execute_result"
    }
   ],
   "source": [
    "# We can retrain the model using early_stopping callback\n",
    "# I could just put it in the code above but this way there will be sth to compare it to...\n",
    "\n",
    "input_size = 10 # 10 predictors\n",
    "output_size = 2 # output is 0 or 1\n",
    "hidden_layer_size = 50\n",
    "\n",
    "model = tf.keras.Sequential([\n",
    "                             tf.keras.layers.Dense(hidden_layer_size, activation='relu'),\n",
    "                             tf.keras.layers.Dense(hidden_layer_size, activation='relu'),\n",
    "                             tf.keras.layers.Dense(hidden_layer_size, activation='softmax')\n",
    "                            ])\n",
    "\n",
    "model.compile(optimizer='adam', loss='sparse_categorical_crossentropy', metrics=['accuracy'])\n",
    "# sparse_categorical_crossentropy applies one-hot encoding to the targets\n",
    "\n",
    "batch_size = 100\n",
    "max_epochs = 100\n",
    "\n",
    "early_stopping = tf.keras.callbacks.EarlyStopping(patience=2)\n",
    "\n",
    "model.fit(train_inputs,\n",
    "          train_targets,\n",
    "          batch_size = batch_size,\n",
    "          epochs = max_epochs,\n",
    "          callbacks=[early_stopping],\n",
    "          validation_data=(validation_inputs, validation_targets),\n",
    "          verbose=2)"
   ]
  },
  {
   "cell_type": "markdown",
   "id": "81ece933",
   "metadata": {},
   "source": [
    "### Testing the model"
   ]
  },
  {
   "cell_type": "code",
   "execution_count": 23,
   "id": "0f3d3695",
   "metadata": {},
   "outputs": [
    {
     "name": "stdout",
     "output_type": "stream",
     "text": [
      "14/14 [==============================] - 0s 4ms/step - loss: 0.3508 - accuracy: 0.8080\n"
     ]
    }
   ],
   "source": [
    "test_loss, test_accuracy = model.evaluate(test_inputs, test_targets)"
   ]
  },
  {
   "cell_type": "code",
   "execution_count": 25,
   "id": "5e2c13ec",
   "metadata": {},
   "outputs": [
    {
     "name": "stdout",
     "output_type": "stream",
     "text": [
      "Test loss: 0.35. Test accuracy: 80.80%\n"
     ]
    }
   ],
   "source": [
    "print('Test loss: {0:.2f}. Test accuracy: {1:.2f}%'.format(test_loss, test_accuracy*100))"
   ]
  },
  {
   "cell_type": "code",
   "execution_count": null,
   "id": "cf3fb775",
   "metadata": {},
   "outputs": [],
   "source": []
  }
 ],
 "metadata": {
  "kernelspec": {
   "display_name": "Python 3 (ipykernel)",
   "language": "python",
   "name": "python3"
  },
  "language_info": {
   "codemirror_mode": {
    "name": "ipython",
    "version": 3
   },
   "file_extension": ".py",
   "mimetype": "text/x-python",
   "name": "python",
   "nbconvert_exporter": "python",
   "pygments_lexer": "ipython3",
   "version": "3.9.7"
  }
 },
 "nbformat": 4,
 "nbformat_minor": 5
}
