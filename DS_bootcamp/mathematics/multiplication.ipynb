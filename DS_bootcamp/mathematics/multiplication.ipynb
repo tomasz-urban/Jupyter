{
 "cells": [
  {
   "cell_type": "code",
   "execution_count": 1,
   "id": "inappropriate-sculpture",
   "metadata": {},
   "outputs": [],
   "source": [
    "import numpy as np"
   ]
  },
  {
   "cell_type": "markdown",
   "id": "opponent-indie",
   "metadata": {},
   "source": [
    "### Dot product"
   ]
  },
  {
   "cell_type": "code",
   "execution_count": 2,
   "id": "hungry-kernel",
   "metadata": {},
   "outputs": [],
   "source": [
    "x = np.array([2,8,-4])\n",
    "y = np.array([1,-7,3])"
   ]
  },
  {
   "cell_type": "code",
   "execution_count": 3,
   "id": "voluntary-albany",
   "metadata": {},
   "outputs": [
    {
     "data": {
      "text/plain": [
       "-66"
      ]
     },
     "execution_count": 3,
     "metadata": {},
     "output_type": "execute_result"
    }
   ],
   "source": [
    "np.dot(x,y) #2*1 + 8*(-7) + (-4)*3"
   ]
  },
  {
   "cell_type": "markdown",
   "id": "adjusted-manhattan",
   "metadata": {},
   "source": [
    "### Matrices multiplication"
   ]
  },
  {
   "cell_type": "markdown",
   "id": "clinical-correspondence",
   "metadata": {},
   "source": [
    "#### When multiplying matrices the second dimension in the 1st matrix (mxn) has to match first dimension in the 2nd matrix (nxk). The result of multiplication is matrix with the dimension mxk\n",
    "#### For example we can multiply matrices: 2x3 and 3x4, 2x3 and 3x6, 2x3 and 3x123 ... and so on"
   ]
  },
  {
   "cell_type": "code",
   "execution_count": 5,
   "id": "moved-audit",
   "metadata": {},
   "outputs": [
    {
     "data": {
      "text/plain": [
       "array([[ 5, 12,  6],\n",
       "       [-3,  0, 14]])"
      ]
     },
     "execution_count": 5,
     "metadata": {},
     "output_type": "execute_result"
    }
   ],
   "source": [
    "A = np.array([[5,12,6],[-3,0,14]])\n",
    "A"
   ]
  },
  {
   "cell_type": "code",
   "execution_count": 6,
   "id": "critical-employment",
   "metadata": {},
   "outputs": [
    {
     "data": {
      "text/plain": [
       "array([[ 2, -1],\n",
       "       [ 8,  0],\n",
       "       [ 3,  0]])"
      ]
     },
     "execution_count": 6,
     "metadata": {},
     "output_type": "execute_result"
    }
   ],
   "source": [
    "B = np.array([[2,-1],[8,0],[3,0]])\n",
    "B"
   ]
  },
  {
   "cell_type": "code",
   "execution_count": 7,
   "id": "neural-tours",
   "metadata": {},
   "outputs": [
    {
     "data": {
      "text/plain": [
       "array([[124,  -5],\n",
       "       [ 36,   3]])"
      ]
     },
     "execution_count": 7,
     "metadata": {},
     "output_type": "execute_result"
    }
   ],
   "source": [
    "np.dot(A,B) \n",
    "# 5*2 + 12*8 + 6*3 = 124 \n",
    "# 5*-1 + 12*0 + 6*0 = -5\n",
    "# -3*2 + 0*8 + 14*3 = 36\n",
    "# -3*-1 + 0*0 + 14*0 = 3"
   ]
  },
  {
   "cell_type": "code",
   "execution_count": null,
   "id": "exotic-province",
   "metadata": {},
   "outputs": [],
   "source": []
  }
 ],
 "metadata": {
  "kernelspec": {
   "display_name": "Python 3",
   "language": "python",
   "name": "python3"
  },
  "language_info": {
   "codemirror_mode": {
    "name": "ipython",
    "version": 3
   },
   "file_extension": ".py",
   "mimetype": "text/x-python",
   "name": "python",
   "nbconvert_exporter": "python",
   "pygments_lexer": "ipython3",
   "version": "3.9.1"
  }
 },
 "nbformat": 4,
 "nbformat_minor": 5
}
